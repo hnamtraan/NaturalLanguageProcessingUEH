{
 "cells": [
  {
   "cell_type": "code",
   "execution_count": 13,
   "metadata": {},
   "outputs": [],
   "source": [
    "import pandas as pd\n",
    "import os\n",
    "import warnings\n",
    "warnings.filterwarnings('ignore')"
   ]
  },
  {
   "cell_type": "markdown",
   "metadata": {},
   "source": [
    "### Preprocess encoding\n",
    "[stackoverflow.com](https://stackoverflow.com/questions/26491448/how-to-fix-broken-utf-8-encoding-in-python)"
   ]
  },
  {
   "cell_type": "code",
   "execution_count": null,
   "metadata": {},
   "outputs": [
    {
     "name": "stdout",
     "output_type": "stream",
     "text": [
      "Requirement already satisfied: ftfy in c:\\users\\admin\\appdata\\local\\programs\\python\\python311\\lib\\site-packages (6.1.1)\n",
      "Requirement already satisfied: wcwidth>=0.2.5 in c:\\users\\admin\\appdata\\roaming\\python\\python311\\site-packages (from ftfy) (0.2.6)\n"
     ]
    }
   ],
   "source": [
    "!python -m pip install ftfy"
   ]
  },
  {
   "cell_type": "code",
   "execution_count": null,
   "metadata": {},
   "outputs": [],
   "source": [
    "from ftfy import fix_encoding"
   ]
  },
  {
   "cell_type": "code",
   "execution_count": null,
   "metadata": {},
   "outputs": [],
   "source": [
    "str = \"ÄÃ¢y lÃ  TrÆ°á»ng Äáº¡i há»c Kinh táº¿ TPHCM (UEH) náº±m trong Äáº¡i há»c Quá»‘c gia TPHCM; má»™t trong nhá»¯ng TrÆ°á»ng Äáº¡i há»c cÃ³ uy tÃ­n trong vÃ  ngoÃ i nÆ°á»›c; nÆ¡i Ä‘Ã o táº¡o ra nguá»“n nhÃ¢n lá»±c cháº¥t lÆ°á»£ng phá»¥c vá»¥ cho nhu cáº§u phÃ¡t triá»ƒn kinh táº¿ cá»§a Ä‘áº¥t nÆ°á»›c.\""
   ]
  },
  {
   "cell_type": "code",
   "execution_count": null,
   "metadata": {},
   "outputs": [
    {
     "data": {
      "text/plain": [
       "'Đây là Trường Đại học Kinh tế TPHCM (UEH) nằm trong Đại học Quốc gia TPHCM; một trong những Trường Đại học có uy tín trong và ngoài nước; nơi đà o tạo ra nguồn nhân lực chất lượng phục vụ cho nhu cầu phát triển kinh tế của đất nước.'"
      ]
     },
     "metadata": {},
     "output_type": "display_data"
    }
   ],
   "source": [
    "fix_encoding(str)"
   ]
  },
  {
   "cell_type": "markdown",
   "metadata": {},
   "source": [
    "### Combine files"
   ]
  },
  {
   "cell_type": "code",
   "execution_count": null,
   "metadata": {},
   "outputs": [
    {
     "name": "stdout",
     "output_type": "stream",
     "text": [
      "Requirement already satisfied: XlsxWriter in c:\\users\\admin\\appdata\\local\\programs\\python\\python311\\lib\\site-packages (3.1.9)\n"
     ]
    }
   ],
   "source": [
    "!python -m pip install XlsxWriter"
   ]
  },
  {
   "cell_type": "code",
   "execution_count": null,
   "metadata": {},
   "outputs": [
    {
     "data": {
      "text/plain": [
       "['uehA.xlsx',\n",
       " 'uehB.xlsx',\n",
       " 'uehC.xlsx',\n",
       " 'uehD.xlsx',\n",
       " 'uehE.xlsx',\n",
       " 'uehH.xlsx',\n",
       " 'uehHOTEL.xlsx',\n",
       " 'uehI.xlsx',\n",
       " 'uehKTX135-1.xlsx',\n",
       " 'uehKTX135-2.xlsx',\n",
       " 'uehKTX4345.xlsx',\n",
       " 'uehLibB.xlsx',\n",
       " 'uehLibN.xlsx',\n",
       " 'uehN.xlsx',\n",
       " 'uehQ8.xlsx',\n",
       " 'uehV.xlsx',\n",
       " 'uehVL1.xlsx']"
      ]
     },
     "metadata": {},
     "output_type": "display_data"
    }
   ],
   "source": [
    "folder = r'U:\\UEH kỳ 5\\NLP\\cuối kỳ - NLP'\n",
    "inp_folder = folder + r'\\data\\raw-ggmap-crawl'\n",
    "out_folder = folder + r'\\data\\combine'\n",
    "out_filename = 'ueh-ggmap-reviewers.xlsx'\n",
    "fileList = os.listdir(inp_folder)\n",
    "fileList"
   ]
  },
  {
   "cell_type": "code",
   "execution_count": null,
   "metadata": {},
   "outputs": [
    {
     "data": {
      "text/html": [
       "<style type=\"text/css\">\n",
       "</style>\n",
       "<table id=\"T_f880c\">\n",
       "  <thead>\n",
       "    <tr>\n",
       "      <th class=\"blank level0\" >&nbsp;</th>\n",
       "      <th id=\"T_f880c_level0_col0\" class=\"col_heading level0 col0\" >File</th>\n",
       "      <th id=\"T_f880c_level0_col1\" class=\"col_heading level0 col1\" >Rows</th>\n",
       "      <th id=\"T_f880c_level0_col2\" class=\"col_heading level0 col2\" >Columns</th>\n",
       "    </tr>\n",
       "  </thead>\n",
       "  <tbody>\n",
       "    <tr>\n",
       "      <th id=\"T_f880c_level0_row0\" class=\"row_heading level0 row0\" >0</th>\n",
       "      <td id=\"T_f880c_row0_col0\" class=\"data row0 col0\" >uehA.xlsx</td>\n",
       "      <td id=\"T_f880c_row0_col1\" class=\"data row0 col1\" >1009</td>\n",
       "      <td id=\"T_f880c_row0_col2\" class=\"data row0 col2\" >5</td>\n",
       "    </tr>\n",
       "    <tr>\n",
       "      <th id=\"T_f880c_level0_row1\" class=\"row_heading level0 row1\" >1</th>\n",
       "      <td id=\"T_f880c_row1_col0\" class=\"data row1 col0\" >uehB.xlsx</td>\n",
       "      <td id=\"T_f880c_row1_col1\" class=\"data row1 col1\" >668</td>\n",
       "      <td id=\"T_f880c_row1_col2\" class=\"data row1 col2\" >5</td>\n",
       "    </tr>\n",
       "    <tr>\n",
       "      <th id=\"T_f880c_level0_row2\" class=\"row_heading level0 row2\" >2</th>\n",
       "      <td id=\"T_f880c_row2_col0\" class=\"data row2 col0\" >uehC.xlsx</td>\n",
       "      <td id=\"T_f880c_row2_col1\" class=\"data row2 col1\" >42</td>\n",
       "      <td id=\"T_f880c_row2_col2\" class=\"data row2 col2\" >5</td>\n",
       "    </tr>\n",
       "    <tr>\n",
       "      <th id=\"T_f880c_level0_row3\" class=\"row_heading level0 row3\" >3</th>\n",
       "      <td id=\"T_f880c_row3_col0\" class=\"data row3 col0\" >uehD.xlsx</td>\n",
       "      <td id=\"T_f880c_row3_col1\" class=\"data row3 col1\" >31</td>\n",
       "      <td id=\"T_f880c_row3_col2\" class=\"data row3 col2\" >5</td>\n",
       "    </tr>\n",
       "    <tr>\n",
       "      <th id=\"T_f880c_level0_row4\" class=\"row_heading level0 row4\" >4</th>\n",
       "      <td id=\"T_f880c_row4_col0\" class=\"data row4 col0\" >uehE.xlsx</td>\n",
       "      <td id=\"T_f880c_row4_col1\" class=\"data row4 col1\" >27</td>\n",
       "      <td id=\"T_f880c_row4_col2\" class=\"data row4 col2\" >5</td>\n",
       "    </tr>\n",
       "    <tr>\n",
       "      <th id=\"T_f880c_level0_row5\" class=\"row_heading level0 row5\" >5</th>\n",
       "      <td id=\"T_f880c_row5_col0\" class=\"data row5 col0\" >uehH.xlsx</td>\n",
       "      <td id=\"T_f880c_row5_col1\" class=\"data row5 col1\" >11</td>\n",
       "      <td id=\"T_f880c_row5_col2\" class=\"data row5 col2\" >5</td>\n",
       "    </tr>\n",
       "    <tr>\n",
       "      <th id=\"T_f880c_level0_row6\" class=\"row_heading level0 row6\" >6</th>\n",
       "      <td id=\"T_f880c_row6_col0\" class=\"data row6 col0\" >uehHOTEL.xlsx</td>\n",
       "      <td id=\"T_f880c_row6_col1\" class=\"data row6 col1\" >10</td>\n",
       "      <td id=\"T_f880c_row6_col2\" class=\"data row6 col2\" >5</td>\n",
       "    </tr>\n",
       "    <tr>\n",
       "      <th id=\"T_f880c_level0_row7\" class=\"row_heading level0 row7\" >7</th>\n",
       "      <td id=\"T_f880c_row7_col0\" class=\"data row7 col0\" >uehI.xlsx</td>\n",
       "      <td id=\"T_f880c_row7_col1\" class=\"data row7 col1\" >37</td>\n",
       "      <td id=\"T_f880c_row7_col2\" class=\"data row7 col2\" >5</td>\n",
       "    </tr>\n",
       "    <tr>\n",
       "      <th id=\"T_f880c_level0_row8\" class=\"row_heading level0 row8\" >8</th>\n",
       "      <td id=\"T_f880c_row8_col0\" class=\"data row8 col0\" >uehKTX135-1.xlsx</td>\n",
       "      <td id=\"T_f880c_row8_col1\" class=\"data row8 col1\" >111</td>\n",
       "      <td id=\"T_f880c_row8_col2\" class=\"data row8 col2\" >5</td>\n",
       "    </tr>\n",
       "    <tr>\n",
       "      <th id=\"T_f880c_level0_row9\" class=\"row_heading level0 row9\" >9</th>\n",
       "      <td id=\"T_f880c_row9_col0\" class=\"data row9 col0\" >uehKTX135-2.xlsx</td>\n",
       "      <td id=\"T_f880c_row9_col1\" class=\"data row9 col1\" >3</td>\n",
       "      <td id=\"T_f880c_row9_col2\" class=\"data row9 col2\" >5</td>\n",
       "    </tr>\n",
       "    <tr>\n",
       "      <th id=\"T_f880c_level0_row10\" class=\"row_heading level0 row10\" >10</th>\n",
       "      <td id=\"T_f880c_row10_col0\" class=\"data row10 col0\" >uehKTX4345.xlsx</td>\n",
       "      <td id=\"T_f880c_row10_col1\" class=\"data row10 col1\" >198</td>\n",
       "      <td id=\"T_f880c_row10_col2\" class=\"data row10 col2\" >5</td>\n",
       "    </tr>\n",
       "    <tr>\n",
       "      <th id=\"T_f880c_level0_row11\" class=\"row_heading level0 row11\" >11</th>\n",
       "      <td id=\"T_f880c_row11_col0\" class=\"data row11 col0\" >uehLibB.xlsx</td>\n",
       "      <td id=\"T_f880c_row11_col1\" class=\"data row11 col1\" >61</td>\n",
       "      <td id=\"T_f880c_row11_col2\" class=\"data row11 col2\" >5</td>\n",
       "    </tr>\n",
       "    <tr>\n",
       "      <th id=\"T_f880c_level0_row12\" class=\"row_heading level0 row12\" >12</th>\n",
       "      <td id=\"T_f880c_row12_col0\" class=\"data row12 col0\" >uehLibN.xlsx</td>\n",
       "      <td id=\"T_f880c_row12_col1\" class=\"data row12 col1\" >7</td>\n",
       "      <td id=\"T_f880c_row12_col2\" class=\"data row12 col2\" >5</td>\n",
       "    </tr>\n",
       "    <tr>\n",
       "      <th id=\"T_f880c_level0_row13\" class=\"row_heading level0 row13\" >13</th>\n",
       "      <td id=\"T_f880c_row13_col0\" class=\"data row13 col0\" >uehN.xlsx</td>\n",
       "      <td id=\"T_f880c_row13_col1\" class=\"data row13 col1\" >100</td>\n",
       "      <td id=\"T_f880c_row13_col2\" class=\"data row13 col2\" >5</td>\n",
       "    </tr>\n",
       "    <tr>\n",
       "      <th id=\"T_f880c_level0_row14\" class=\"row_heading level0 row14\" >14</th>\n",
       "      <td id=\"T_f880c_row14_col0\" class=\"data row14 col0\" >uehQ8.xlsx</td>\n",
       "      <td id=\"T_f880c_row14_col1\" class=\"data row14 col1\" >29</td>\n",
       "      <td id=\"T_f880c_row14_col2\" class=\"data row14 col2\" >5</td>\n",
       "    </tr>\n",
       "    <tr>\n",
       "      <th id=\"T_f880c_level0_row15\" class=\"row_heading level0 row15\" >15</th>\n",
       "      <td id=\"T_f880c_row15_col0\" class=\"data row15 col0\" >uehV.xlsx</td>\n",
       "      <td id=\"T_f880c_row15_col1\" class=\"data row15 col1\" >1</td>\n",
       "      <td id=\"T_f880c_row15_col2\" class=\"data row15 col2\" >5</td>\n",
       "    </tr>\n",
       "    <tr>\n",
       "      <th id=\"T_f880c_level0_row16\" class=\"row_heading level0 row16\" >16</th>\n",
       "      <td id=\"T_f880c_row16_col0\" class=\"data row16 col0\" >uehVL1.xlsx</td>\n",
       "      <td id=\"T_f880c_row16_col1\" class=\"data row16 col1\" >100</td>\n",
       "      <td id=\"T_f880c_row16_col2\" class=\"data row16 col2\" >5</td>\n",
       "    </tr>\n",
       "    <tr>\n",
       "      <th id=\"T_f880c_level0_row17\" class=\"row_heading level0 row17\" >17</th>\n",
       "      <td id=\"T_f880c_row17_col0\" class=\"data row17 col0\" >Tổng</td>\n",
       "      <td id=\"T_f880c_row17_col1\" class=\"data row17 col1\" >2445</td>\n",
       "      <td id=\"T_f880c_row17_col2\" class=\"data row17 col2\" >85</td>\n",
       "    </tr>\n",
       "  </tbody>\n",
       "</table>\n"
      ],
      "text/plain": [
       "<pandas.io.formats.style.Styler at 0x26d0f54d4d0>"
      ]
     },
     "metadata": {},
     "output_type": "display_data"
    }
   ],
   "source": [
    "dimensions = []\n",
    "for file in os.listdir(inp_folder):\n",
    "    if file.endswith('.xlsx'):\n",
    "        file_path = os.path.join(inp_folder, file)\n",
    "        df = pd.read_excel(file_path)\n",
    "        \n",
    "        # Get the dimensions (number of rows and columns)\n",
    "        num_rows, num_cols = df.shape\n",
    "        # Append dimensions to the list\n",
    "        dimensions.append({'File': file, 'Rows': num_rows, 'Columns': num_cols})\n",
    "\n",
    "dimensions_df = pd.DataFrame(dimensions)\n",
    "\n",
    "total_rows = dimensions_df['Rows'].sum()\n",
    "total_cols = dimensions_df['Columns'].sum()\n",
    "total_row = {'File': 'Tổng', 'Rows': total_rows, 'Columns': total_cols}\n",
    "dimensions_df = dimensions_df.append(total_row, ignore_index=True)\n",
    "\n",
    "dimensions_df.style"
   ]
  },
  {
   "cell_type": "code",
   "execution_count": null,
   "metadata": {},
   "outputs": [
    {
     "name": "stderr",
     "output_type": "stream",
     "text": [
      "C:\\Users\\Admin\\AppData\\Local\\Temp\\ipykernel_18740\\3973064587.py:7: FutureWarning: save is not part of the public API, usage can give unexpected results and will be removed in a future version\n",
      "  excelWriter.save()\n"
     ]
    }
   ],
   "source": [
    "excelWriter = pd.ExcelWriter(out_folder + '/' + out_filename, engine='xlsxwriter')\n",
    "files = [file.split('.',1)[0] for file in fileList]\n",
    "\n",
    "for file in files:\n",
    "    df = pd.read_excel(inp_folder + '/' + file + '.xlsx')\n",
    "    df.to_excel(excelWriter, sheet_name=file, index=False)\n",
    "excelWriter.save()"
   ]
  },
  {
   "cell_type": "markdown",
   "metadata": {},
   "source": [
    "### Combine sheets"
   ]
  },
  {
   "cell_type": "code",
   "execution_count": 14,
   "metadata": {},
   "outputs": [
    {
     "data": {
      "text/plain": [
       "['uehA',\n",
       " 'uehB',\n",
       " 'uehC',\n",
       " 'uehD',\n",
       " 'uehE',\n",
       " 'uehH',\n",
       " 'uehHOTEL',\n",
       " 'uehI',\n",
       " 'uehKTX135-1',\n",
       " 'uehKTX135-2',\n",
       " 'uehKTX4345',\n",
       " 'uehLibB',\n",
       " 'uehLibN',\n",
       " 'uehN',\n",
       " 'uehQ8',\n",
       " 'uehV',\n",
       " 'uehVL1']"
      ]
     },
     "execution_count": 14,
     "metadata": {},
     "output_type": "execute_result"
    }
   ],
   "source": [
    "excel_file_path = r'combine\\ueh-ggmap-reviewers-cleaned.xlsx'\n",
    "xls = pd.ExcelFile(excel_file_path)\n",
    "sheet_names = xls.sheet_names\n",
    "sheet_names"
   ]
  },
  {
   "cell_type": "code",
   "execution_count": 15,
   "metadata": {},
   "outputs": [],
   "source": [
    "combined_data = pd.DataFrame()\n",
    "\n",
    "# Loop through each sheet\n",
    "for sheet_name in sheet_names:\n",
    "    # Read the data from the sheet\n",
    "    df = pd.read_excel(xls, sheet_name)\n",
    "    # Add a new column to identify the source sheet\n",
    "    df['Cơ sở'] = sheet_name    \n",
    "    # Concatenate the data to the combined_data DataFrame\n",
    "    combined_data = pd.concat([combined_data, df], ignore_index=True)\n",
    "    combined_data['Độ dài nội dung review'] = combined_data['context'].apply(lambda x: len(str(x)))\n",
    "    combined_data = combined_data.sort_values(by='Độ dài nội dung review', ascending=False)\n",
    "combined_data = combined_data.drop(columns=['Độ dài nội dung review'])"
   ]
  },
  {
   "cell_type": "code",
   "execution_count": 16,
   "metadata": {},
   "outputs": [],
   "source": [
    "combined_data.to_excel('UEH-reviews.xlsx', index=False)"
   ]
  }
 ],
 "metadata": {
  "kernelspec": {
   "display_name": "Python 3",
   "language": "python",
   "name": "python3"
  },
  "language_info": {
   "codemirror_mode": {
    "name": "ipython",
    "version": 3
   },
   "file_extension": ".py",
   "mimetype": "text/x-python",
   "name": "python",
   "nbconvert_exporter": "python",
   "pygments_lexer": "ipython3",
   "version": "3.11.0"
  }
 },
 "nbformat": 4,
 "nbformat_minor": 2
}
